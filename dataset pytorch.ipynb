{
  "cells": [
    {
      "cell_type": "code",
      "execution_count": 9,
      "metadata": {},
      "outputs": [
        {
          "name": "stdout",
          "output_type": "stream",
          "text": [
            "Using DATA_DIR = ./data/\n",
            "Pandas: 2.3.0 | NumPy: 2.2.4\n"
          ]
        }
      ],
      "source": [
        "import os\n",
        "import pandas as pd\n",
        "import numpy as np\n",
        "\n",
        "# Configure paths and split params\n",
        "DATA_DIR = './data/'  # change if needed\n",
        "VAL_RATIO = 0.2         # 20% of each user's interactions go to validation (by time)\n",
        "MIN_VAL = 1             # at least one validation interaction per user when possible\n",
        "MIN_RATING = 4.0    # ratings >= MIN_rating are considered positive\n",
        "print('Using DATA_DIR =', DATA_DIR)\n",
        "print('Pandas:', pd.__version__, '| NumPy:', np.__version__)"
      ]
    },
    {
      "cell_type": "code",
      "execution_count": 10,
      "id": "a72fa3af",
      "metadata": {},
      "outputs": [
        {
          "name": "stdout",
          "output_type": "stream",
          "text": [
            "n_users: 610 | n_items: 9742\n"
          ]
        }
      ],
      "source": [
        "\n",
        "from src.datasets import load_dataset_with_splits, build_id_mappings, get_seen_dict\n",
        "\n",
        "movies_df, ratings_train, ratings_val, ratings_test = load_dataset_with_splits(DATA_DIR)\n",
        "uid2idx, idx2uid, iid2idx, idx2iid = build_id_mappings(ratings_train, movies_df)\n",
        "print('n_users:', len(uid2idx), '| n_items:', len(iid2idx))\n",
        "\n",
        "\n",
        "ratings_df = ratings_train.copy()"
      ]
    },
    {
      "cell_type": "code",
      "execution_count": 26,
      "id": "e2ddaf47",
      "metadata": {},
      "outputs": [
        {
          "name": "stdout",
          "output_type": "stream",
          "text": [
            "positives: (39517, 2)\n",
            "[[   1  804]\n",
            " [   1 1210]\n",
            " [   1 2018]\n",
            " [   1 2628]\n",
            " [   1 2826]]\n",
            "[[   610  54910]\n",
            " [   610  92309]\n",
            " [   610  56336]\n",
            " [   610 130840]\n",
            " [   610 136602]]\n"
          ]
        }
      ],
      "source": [
        "pos = ratings_df.loc[ratings_df['rating'] >= float(MIN_RATING), ['userId','movieId']]\n",
        "pos = pos[pos['userId'].isin(uid2idx) & pos['movieId'].isin(iid2idx)].reset_index(drop=True)\n",
        "pos_pairs = pos[['userId','movieId']].to_numpy(np.int64)\n",
        "print('positives:', pos_pairs.shape)\n",
        "print(pos_pairs[:5])\n",
        "print(pos_pairs[-5:])"
      ]
    },
    {
      "cell_type": "code",
      "execution_count": 30,
      "id": "049f951b",
      "metadata": {},
      "outputs": [
        {
          "name": "stdout",
          "output_type": "stream",
          "text": [
            "unique users: 607\n",
            "first 5 users: [0 1 2 3 4]\n",
            "[  0 162 178 194 301] [162 178 194 301 319]\n"
          ]
        }
      ],
      "source": [
        "u_idx = pos['userId'].map(uid2idx).to_numpy(np.int64, copy=False)\n",
        "i_idx = pos['movieId'].map(iid2idx).to_numpy(np.int64, copy=False)\n",
        "order = np.argsort(u_idx); u_sorted = u_idx[order]; i_sorted = i_idx[order]\n",
        "uniq_u, starts = np.unique(u_sorted, return_index=True); ends = np.r_[starts[1:], len(u_sorted)]\n",
        "print('unique users:', len(uniq_u))\n",
        "print('first 5 users:', uniq_u[:5])\n",
        "print(starts[:5], ends[:5])"
      ]
    },
    {
      "cell_type": "code",
      "execution_count": null,
      "id": "cc9a9337",
      "metadata": {},
      "outputs": [
        {
          "name": "stdout",
          "output_type": "stream",
          "text": [
            "unseen items for first 5 users:\n",
            "  user 0: 9580 unseen items, first 5: [1 3 4 6 7]\n",
            "  user 1: 9726 unseen items, first 5: [0 1 2 3 4]\n",
            "  user 2: 9726 unseen items, first 5: [0 1 2 3 4]\n",
            "  user 3: 9635 unseen items, first 5: [0 1 2 3 4]\n",
            "  user 4: 9724 unseen items, first 5: [1 2 3 4 5]\n"
          ]
        }
      ],
      "source": [
        "\n",
        "all_items = np.arange(len(iid2idx), dtype=np.int64)\n",
        "unseen = {int(u): np.setdiff1d(all_items, np.unique(i_sorted[s:e]), assume_unique=False)\n",
        "          for u, s, e in zip(uniq_u, starts, ends)}\n",
        "\n",
        "\n"
      ]
    },
    {
      "cell_type": "code",
      "execution_count": 34,
      "metadata": {
        "name": "numpy_prep"
      },
      "outputs": [
        {
          "name": "stdout",
          "output_type": "stream",
          "text": [
            "users with positives: 607\n",
            "example user idx: 0 | unseen count: 9580 | first unseen: [ 1  3  4  6  7  8  9 10 11 12]\n"
          ]
        }
      ],
      "source": [
        "rng = np.random.default_rng()\n",
        "print('users with positives:', len(unseen))\n",
        "if len(uniq_u):\n",
        "    u0 = int(uniq_u[0])\n",
        "    print('example user idx:', u0, '| unseen count:', unseen[u0].size, '| first unseen:', unseen[u0][:10])"
      ]
    },
    {
      "cell_type": "code",
      "execution_count": 35,
      "metadata": {
        "name": "sampling_demo"
      },
      "outputs": [
        {
          "ename": "NameError",
          "evalue": "name 'NEG_PER_POS' is not defined",
          "output_type": "error",
          "traceback": [
            "\u001b[31m---------------------------------------------------------------------------\u001b[39m",
            "\u001b[31mNameError\u001b[39m                                 Traceback (most recent call last)",
            "\u001b[36mCell\u001b[39m\u001b[36m \u001b[39m\u001b[32mIn[35]\u001b[39m\u001b[32m, line 4\u001b[39m\n\u001b[32m      2\u001b[39m u0 = \u001b[38;5;28mint\u001b[39m(uniq_u[\u001b[32m0\u001b[39m]); pool = unseen[u0]\n\u001b[32m      3\u001b[39m \u001b[38;5;28;01mif\u001b[39;00m pool.size:\n\u001b[32m----> \u001b[39m\u001b[32m4\u001b[39m     sample = rng.choice(pool, size=\u001b[38;5;28mint\u001b[39m(\u001b[43mNEG_PER_POS\u001b[49m), replace=\u001b[38;5;28;01mTrue\u001b[39;00m)\n\u001b[32m      5\u001b[39m     \u001b[38;5;28mprint\u001b[39m(\u001b[33m'\u001b[39m\u001b[33mSample negatives for user\u001b[39m\u001b[33m'\u001b[39m, u0, \u001b[33m'\u001b[39m\u001b[33m:\u001b[39m\u001b[33m'\u001b[39m, sample)\n\u001b[32m      6\u001b[39m \u001b[38;5;28;01melse\u001b[39;00m:\n",
            "\u001b[31mNameError\u001b[39m: name 'NEG_PER_POS' is not defined"
          ]
        }
      ],
      "source": [
        "if len(uniq_u):\n",
        "    u0 = int(uniq_u[0]); pool = unseen[u0]\n",
        "    if pool.size:\n",
        "        sample = rng.choice(pool, size=int(NEG_PER_POS), replace=True)\n",
        "        print('Sample negatives for user', u0, ':', sample)\n",
        "    else:\n",
        "        print('User has no unseen items to sample')\n",
        "else:\n",
        "    print('No users to sample from')"
      ]
    },
    {
      "cell_type": "code",
      "execution_count": null,
      "id": "bc099dc4",
      "metadata": {},
      "outputs": [],
      "source": []
    }
  ],
  "metadata": {
    "kernelspec": {
      "display_name": "Python 3",
      "language": "python",
      "name": "python3"
    },
    "language_info": {
      "codemirror_mode": {
        "name": "ipython",
        "version": 3
      },
      "file_extension": ".py",
      "mimetype": "text/x-python",
      "name": "python",
      "nbconvert_exporter": "python",
      "pygments_lexer": "ipython3",
      "version": "3.11.9"
    }
  },
  "nbformat": 4,
  "nbformat_minor": 5
}
